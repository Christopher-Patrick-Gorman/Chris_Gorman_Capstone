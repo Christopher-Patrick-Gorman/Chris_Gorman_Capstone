{
 "cells": [
  {
   "cell_type": "code",
   "execution_count": null,
   "id": "27be2113",
   "metadata": {},
   "outputs": [],
   "source": [
    "import requests\n",
    "import json\n",
    "import pandas as pd"
   ]
  },
  {
   "cell_type": "code",
   "execution_count": null,
   "id": "800ac1df",
   "metadata": {},
   "outputs": [],
   "source": [
    "#Load in Protected Keys\n",
    "with open(r'C:\\Users\\G-Unit\\Chris\\NSSFiles\\Capstone\\Data\\API_Keys\\OTClient_ID.json') as fi:\n",
    "    credentials = json.load(fi)\n",
    "with open(r'C:\\Users\\G-Unit\\Chris\\NSSFiles\\Capstone\\Data\\API_Keys\\OTSecret.json') as fi2:\n",
    "    credentials2 = json.load(fi2)"
   ]
  },
  {
   "cell_type": "code",
   "execution_count": null,
   "id": "566489fe",
   "metadata": {},
   "outputs": [],
   "source": [
    "# Define Credentials, Base URL\n",
    "base_url = 'https://platform.opentable.com/sync/v2'\n",
    "client_id= credentials['client_id']\n",
    "client_secret=credentials2['client_secret']\n",
    "grant_type='client_credentials'\n",
    "# Request Access Token\n",
    "response = requests.get('https://oauth.opentable.com/api/v2/oauth/token?grant_type=client_credentials',\n",
    "                        auth=(client_id, client_secret),\n",
    "                         data={'grant_type':grant_type,'client_id':client_id,'client_secret':client_secret})\n",
    "print(response.json())\n",
    "response"
   ]
  },
  {
   "cell_type": "code",
   "execution_count": null,
   "id": "74b9abef",
   "metadata": {},
   "outputs": [],
   "source": [
    "# Import Protected Bearer Token\n",
    "with open(r'C:\\Users\\G-Unit\\Chris\\NSSFiles\\Capstone\\Data\\API_Keys\\OTAccess.json') as fi3:\n",
    "    credentials3 = json.load(fi3)\n",
    "# Use Bearer Token to Call API endpoint\n",
    "access_token = credentials3['access_token']\n",
    "endpoint=(base_url+'/reservations?rid=168415&scheduled_time_from=2023-04-01T00:00:00&scheduled_time_to=2023-04-30T23:59:59')\n",
    "# Label Headers\n",
    "headers ={'Authorization': f'Bearer{access_token}',\n",
    "         'Content-Type': 'application/json'}\n",
    "response2=requests.get(endpoint, headers=headers)\n",
    "print(response2)"
   ]
  },
  {
   "cell_type": "code",
   "execution_count": null,
   "id": "f9fb742d",
   "metadata": {},
   "outputs": [],
   "source": [
    "# Call API while looking to see if 'nextPageUrl' is empty to get all results rather than the natural API limit of 2000.\n",
    "response2_json=requests.get(endpoint, headers=headers).json()\n",
    "reservations=response2_json['items']\n",
    "while response2_json['nextPageUrl']:\n",
    "# Using bearer token again to call 'nextPageUrl'    \n",
    "    response2_json=requests.get(response2_json['nextPageUrl'],headers=headers).json()\n",
    "    reservations.extend(response2_json['items'])\n",
    "print(reservations)"
   ]
  },
  {
   "cell_type": "code",
   "execution_count": null,
   "id": "f03d6ac6",
   "metadata": {},
   "outputs": [],
   "source": [
    "# Write to DF then to CSV\n",
    "reservations=[]\n",
    "item_json=response2.json()[\"items\"]\n",
    "reservations.extend(item_json)\n",
    "df=pd.DataFrame(reservations)\n",
    "df.to_csv(r'C:\\Users\\G-Unit\\Chris\\NSSFiles\\Capstone\\SGT.csv')"
   ]
  }
 ],
 "metadata": {
  "kernelspec": {
   "display_name": "Python 3 (ipykernel)",
   "language": "python",
   "name": "python3"
  },
  "language_info": {
   "codemirror_mode": {
    "name": "ipython",
    "version": 3
   },
   "file_extension": ".py",
   "mimetype": "text/x-python",
   "name": "python",
   "nbconvert_exporter": "python",
   "pygments_lexer": "ipython3",
   "version": "3.10.9"
  }
 },
 "nbformat": 4,
 "nbformat_minor": 5
}
