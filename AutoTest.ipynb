{
 "cells": [
  {
   "cell_type": "code",
   "execution_count": 1,
   "id": "0f3f5610",
   "metadata": {},
   "outputs": [],
   "source": [
    "import pandas as pd\n",
    "import schedule\n",
    "import time\n",
    "from requests_oauthlib import OAuth1Session\n",
    "import requests\n",
    "import json"
   ]
  },
  {
   "cell_type": "code",
   "execution_count": null,
   "id": "6d2860ed",
   "metadata": {},
   "outputs": [],
   "source": [
    "with open(r'C:\\Users\\G-Unit\\Chris\\NSSFiles\\Capstone\\Data\\API_Keys\\API_Key.json') as fi:\n",
    "    credentials = json.load(fi)\n",
    "with open(r'C:\\Users\\G-Unit\\Chris\\NSSFiles\\Capstone\\Data\\API_Keys\\API_Secret.json') as fi2:\n",
    "    credentials2 = json.load(fi2)"
   ]
  },
  {
   "cell_type": "code",
   "execution_count": 20,
   "id": "5e595111",
   "metadata": {
    "scrolled": false
   },
   "outputs": [],
   "source": [
    "def triple_test():\n",
    "    TRIPLESEAT_OAUTH_CLIENT_KEY = credentials['TRIPLESEAT_OAUTH_CLIENT_KEY']\n",
    "    TRIPLESEAT_OAUTH_CLIENT_SECRET = credentials2['TRIPLESEAT_OAUTH_CLIENT_SECRET']\n",
    "    BASE_URL = 'https://api.tripleseat.com'\n",
    "    client = OAuth1Session(TRIPLESEAT_OAUTH_CLIENT_KEY, client_secret=TRIPLESEAT_OAUTH_CLIENT_SECRET)\n",
    "    r = client.get(BASE_URL + '/oauth/test_request')\n",
    "    if r.status_code == 200:\n",
    "        r = client.get(BASE_URL + '/v1/events.json')\n",
    "    events_url='https://api.tripleseat.com/v1/events.json'\n",
    "    events_api= client.get(events_url)\n",
    "    events_json=events_api.json()\n",
    "    key_list=['managers','contact','secondary_contacts','status_changes','attachments','lost_reason','lost_reason_details','selected_lead_sources']\n",
    "    all_events=[]\n",
    "    for page in range(1, events_json[\"total_pages\"]):\n",
    "        events_api=client.get(events_url + f\"?page={page}\")\n",
    "        loop_json=events_api.json()['results']\n",
    "        for i in range(len(loop_json)):\n",
    "            for key in key_list:\n",
    "                try:\n",
    "                    del loop_json[i][key]\n",
    "                except: \n",
    "                    continue\n",
    "        all_events.extend(loop_json)\n",
    "    df=pd.DataFrame(all_events)\n",
    "    return df\n",
    "df_test=triple_test()\n",
    "\n",
    "df_test.to_csv(r'C:\\Users\\G-Unit\\Chris\\NSSFiles\\Capstone\\TGS.csv')"
   ]
  },
  {
   "cell_type": "code",
   "execution_count": null,
   "id": "e66ac827",
   "metadata": {},
   "outputs": [],
   "source": [
    "def triple_test2():\n",
    "    TRIPLESEAT_OAUTH_CLIENT_KEY = credentials['TRIPLESEAT_OAUTH_CLIENT_KEY']\n",
    "    TRIPLESEAT_OAUTH_CLIENT_SECRET = credentials2['TRIPLESEAT_OAUTH_CLIENT_SECRET']\n",
    "    BASE_URL = 'https://api.tripleseat.com'\n",
    "    client = OAuth1Session(TRIPLESEAT_OAUTH_CLIENT_KEY, client_secret=TRIPLESEAT_OAUTH_CLIENT_SECRET)\n",
    "    r = client.get(BASE_URL + '/oauth/test_request')\n",
    "    if r.status_code == 200:\n",
    "        r = client.get(BASE_URL + '/v1/events.json')\n",
    "    leads_url='https://api.tripleseat.com/v1/leads.json'\n",
    "    leads_api= client.get(leads_url)\n",
    "    leads_json=leads_api.json()\n",
    "    key_list1=['first_name','last_name','company','phone_number','phone_number_extension','email_address','additional_information','lead_form_id','contact_preference','campaign_name','campaign_source','booking_id','campaign_medium','campaign_term','campaign_content','owner','lead_source','deleted_at','customer_id','site_id','turned_down_at','turned_down_reason','booking_lead','contact_id','booking_id']\n",
    "    all_leads=[]\n",
    "    for page in range(1, leads_json[\"total_pages\"]):\n",
    "        leads_api=client.get(leads_url + f\"?page={page}\")\n",
    "        loop_json=leads_api.json()['results']\n",
    "        for i in range(len(loop_json)):\n",
    "            for key in key_list1:\n",
    "                try:\n",
    "                    del loop_json[i][key]\n",
    "                except: \n",
    "                    continue\n",
    "        all_leads.extend(loop_json)\n",
    "    df2=pd.DataFrame(all_leads)\n",
    "    return df2\n",
    "df_test2=triple_test2()\n",
    "\n",
    "df2.to_csv(r'C:\\Users\\G-Unit\\Chris\\NSSFiles\\Capstone\\TGS2.csv')"
   ]
  }
 ],
 "metadata": {
  "kernelspec": {
   "display_name": "Python 3 (ipykernel)",
   "language": "python",
   "name": "python3"
  },
  "language_info": {
   "codemirror_mode": {
    "name": "ipython",
    "version": 3
   },
   "file_extension": ".py",
   "mimetype": "text/x-python",
   "name": "python",
   "nbconvert_exporter": "python",
   "pygments_lexer": "ipython3",
   "version": "3.10.9"
  }
 },
 "nbformat": 4,
 "nbformat_minor": 5
}
